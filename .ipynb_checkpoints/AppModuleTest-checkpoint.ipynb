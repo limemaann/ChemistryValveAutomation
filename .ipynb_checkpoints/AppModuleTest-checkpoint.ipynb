{
 "cells": [
  {
   "cell_type": "code",
   "execution_count": 1,
   "id": "d06cc26f",
   "metadata": {},
   "outputs": [],
   "source": [
    "# import packages\n",
    "from tkinter import *\n",
    "from tkinter import ttk\n",
    "from tkinter import scrolledtext\n",
    "import subprocess\n",
    "from threading import Thread\n"
   ]
  },
  {
   "cell_type": "code",
   "execution_count": 2,
   "id": "499c5479",
   "metadata": {},
   "outputs": [],
   "source": [
    "# needed for this version of the program to run. Will have to replace these with the real functions in the future\n",
    "def Start():\n",
    "    print(\"Hello\")\n",
    "    \n",
    "def get_text():\n",
    "    print(\"meow\")"
   ]
  },
  {
   "cell_type": "code",
   "execution_count": 3,
   "id": "04509501",
   "metadata": {},
   "outputs": [],
   "source": [
    "# ~~ TODO ~~\n",
    "# create a widget that dislplays output terminal in the center\n",
    "# create a widget that displays current time in the bottom right corner\n",
    "# merge this program with the other script to create an app\n",
    "# make a enlution time change button"
   ]
  },
  {
   "cell_type": "code",
   "execution_count": 4,
   "id": "7dd40730",
   "metadata": {},
   "outputs": [],
   "source": [
    "# sets the main application window and gives a title\n",
    "root = Tk()\n",
    "root.title(\"Valve Controller\")\n",
    "\n",
    "# creates a mainframe widget, which holds contents of UI\n",
    "mainframe = ttk.Frame(root, padding=\"0.2i\")\n",
    "# this is for the middle widget\n",
    "frame = ttk.Frame(mainframe, borderwidth=5, relief=\"ridge\", width=300, height=150)\n",
    "\n",
    "# needed for loop button\n",
    "loopvar = BooleanVar(value=\"False\")\n",
    "\n",
    "# creating basic text labels\n",
    "Welcome = ttk.Label(mainframe, text=\"Welcome!\")\n",
    "LoadTime = ttk.Label(mainframe, text=\"Load Time (s):\")\n",
    "EluteTime = ttk.Label(mainframe, text=\"Elute Time (s):\")\n",
    "Ready = ttk.Label(mainframe, text=\"Ready?\")\n",
    "CurrentTime = ttk.Label(mainframe, text=\"Current Time (s):\")\n",
    "\n",
    "# creating an entry widget\n",
    "loadtime = StringVar()\n",
    "loadtime_entry = ttk.Entry(mainframe, width=7, textvariable=loadtime)\n",
    "\n",
    "# creating the button widgets\n",
    "StartButton = ttk.Button(mainframe, text=\"Start\", command=Start)\n",
    "LoopButton = ttk.Checkbutton(mainframe, text=\"Loop?\", variable=loopvar, onvalue=True)\n",
    "\n",
    "# output widgets\n",
    "currenttime = StringVar()\n",
    "CurrentTime_output = ttk.Label(mainframe, textvariable=currenttime)\n",
    "\n",
    "# terminal output in center\n",
    "\n",
    "\n",
    "\n",
    "# places a grid inside our application window and places things in the grid\n",
    "mainframe.grid(column=0, row=0, sticky=(N, S, E, W))\n",
    "\n",
    "frame.grid(column=1,row=1,sticky=(N, W, E, S))\n",
    "Welcome.grid(column=0,row=0,sticky=(E,S))\n",
    "LoadTime.grid(column=0,row=2,sticky=E)\n",
    "Ready.grid(column=2,row=0,sticky=(S))\n",
    "CurrentTime.grid(column=2,row=1,sticky=S)\n",
    "loadtime_entry.grid(column=1, row=2, sticky=W)\n",
    "\n",
    "StartButton.grid(column=2,row=1, sticky=N)\n",
    "LoopButton.grid(column=0, row=1, sticky=E)\n",
    "CurrentTime_output.grid(column=2,row=2,sticky=N)\n",
    "\n",
    "\n",
    "\n",
    "# tells it our grid should expand when the application is resized\n",
    "root.columnconfigure(0, weight=1)\n",
    "root.rowconfigure(0, weight=1)\n",
    "mainframe.columnconfigure(0, weight=1)\n",
    "mainframe.columnconfigure(1, weight=1)\n",
    "mainframe.columnconfigure(2, weight=1)\n",
    "mainframe.rowconfigure(0, weight=1)\n",
    "mainframe.rowconfigure(1, weight=1)\n",
    "mainframe.rowconfigure(2, weight=1)\n",
    "\n",
    "# adding padding to all widgets\n",
    "for child in mainframe.winfo_children():\n",
    "    child.grid_configure(padx=5, pady=5)\n",
    "\n",
    "# start the program basically\n",
    "root.mainloop()\n"
   ]
  },
  {
   "cell_type": "code",
   "execution_count": null,
   "id": "c671cfb1",
   "metadata": {},
   "outputs": [],
   "source": []
  },
  {
   "cell_type": "code",
   "execution_count": null,
   "id": "62c60ec1",
   "metadata": {},
   "outputs": [],
   "source": []
  }
 ],
 "metadata": {
  "kernelspec": {
   "display_name": "Python 3 (ipykernel)",
   "language": "python",
   "name": "python3"
  },
  "language_info": {
   "codemirror_mode": {
    "name": "ipython",
    "version": 3
   },
   "file_extension": ".py",
   "mimetype": "text/x-python",
   "name": "python",
   "nbconvert_exporter": "python",
   "pygments_lexer": "ipython3",
   "version": "3.9.12"
  }
 },
 "nbformat": 4,
 "nbformat_minor": 5
}
