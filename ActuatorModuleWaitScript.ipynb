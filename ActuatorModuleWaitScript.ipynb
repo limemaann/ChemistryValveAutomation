{
 "cells": [
  {
   "cell_type": "code",
   "execution_count": 105,
   "id": "3b76a91d",
   "metadata": {},
   "outputs": [],
   "source": [
    "# required packages\n",
    "import serial\n",
    "import serial.tools.list_ports\n",
    "import time\n",
    "\n",
    "# defines a function that gets devices plugged into serial ports\n",
    "# if one's name is 'port authority', we set that port \n",
    "def port_authority():\n",
    "    ports = list(serial.tools.list_ports.comports())\n",
    "    # this list is 2D\n",
    "    for p in ports:\n",
    "        # basically, if it says 'prolific' in the right side\n",
    "        # give us the name of the port (on the left side)\n",
    "       if \"Prolific\" in p[1]:\n",
    "          return p[0]"
   ]
  },
  {
   "cell_type": "code",
   "execution_count": 106,
   "id": "d2bcb9ca",
   "metadata": {},
   "outputs": [],
   "source": [
    "# runs our function and defines a variable as the port named 'prolific'\n",
    "port=port_authority()\n",
    "# baud rate is 9600, timeout is 1 second\n",
    "ser = serial.Serial(port,9600,timeout=0.5)"
   ]
  },
  {
   "cell_type": "code",
   "execution_count": 107,
   "id": "1b30539d",
   "metadata": {},
   "outputs": [],
   "source": [
    "# defines all useful functions\n",
    "\n",
    "def wait(i):\n",
    "    t = int(i)\n",
    "    time.sleep(t)\n",
    "\n",
    "def start():\n",
    "    ser.write(b'*GOA\\n')\n",
    "    start_time = time.perf_counter()\n",
    "    print(\"Starting Run\")\n",
    "    return start_time\n",
    "\n",
    "\n",
    "def Rinse30(st):\n",
    "    ser.write(b'2GOB\\n')\n",
    "    print(\"Rinsing...\")\n",
    "    wait(30)\n",
    "    current_time = time.perf_counter()\n",
    "    output_time = current_time - st\n",
    "    print(\"Rinsed! Current time: \" + str(output_time))\n",
    "\n",
    "\n",
    "\n",
    "def Rinse45(st):\n",
    "    ser.write(b'1GOA\\n')\n",
    "    print(\"Rinsing...\")\n",
    "    wait(45)\n",
    "    current_time = time.perf_counter()\n",
    "    output_time = current_time - st\n",
    "    print(\"Rinsed! Current time: \" + str(output_time))\n",
    "\n",
    "\n",
    "\n",
    "def Load(st,i):\n",
    "    t = int(i)\n",
    "    ser.write(b'*GOB\\n')\n",
    "    print(\"Loading...\")\n",
    "    wait(t)\n",
    "    current_time = time.perf_counter()\n",
    "    output_time = current_time - st\n",
    "    print(\"Loaded! Current time: \" + str(output_time))\n",
    "\n",
    "\n",
    "def Elute(st):\n",
    "    ser.write(b'*GOA\\n')\n",
    "    print(\"Eluting...\")\n",
    "    wait(240)\n",
    "    current_time = time.perf_counter()\n",
    "    output_time = current_time - st\n",
    "    print(\"Eluted! Time elapsed: \" + str(output_time))\n",
    "    print(\"Ready for next run.\")\n"
   ]
  },
  {
   "cell_type": "code",
   "execution_count": 108,
   "id": "dbcbfa0c",
   "metadata": {},
   "outputs": [
    {
     "name": "stdout",
     "output_type": "stream",
     "text": [
      "Make sure both valves are at A.\n",
      "Desired Load Time? (seconds): j\n"
     ]
    },
    {
     "ename": "ValueError",
     "evalue": "invalid literal for int() with base 10: 'j'",
     "output_type": "error",
     "traceback": [
      "\u001b[1;31m---------------------------------------------------------------------------\u001b[0m",
      "\u001b[1;31mValueError\u001b[0m                                Traceback (most recent call last)",
      "Input \u001b[1;32mIn [108]\u001b[0m, in \u001b[0;36m<cell line: 4>\u001b[1;34m()\u001b[0m\n\u001b[0;32m      2\u001b[0m \u001b[38;5;66;03m# gets the load time from user input\u001b[39;00m\n\u001b[0;32m      3\u001b[0m i \u001b[38;5;241m=\u001b[39m \u001b[38;5;28minput\u001b[39m(\u001b[38;5;124m\"\u001b[39m\u001b[38;5;124mDesired Load Time? (seconds): \u001b[39m\u001b[38;5;124m\"\u001b[39m)\n\u001b[1;32m----> 4\u001b[0m r \u001b[38;5;241m=\u001b[39m \u001b[38;5;28;43mint\u001b[39;49m\u001b[43m(\u001b[49m\u001b[43mi\u001b[49m\u001b[43m)\u001b[49m\n\u001b[0;32m      5\u001b[0m start_time \u001b[38;5;241m=\u001b[39m \u001b[38;5;241m0\u001b[39m\n\u001b[0;32m      8\u001b[0m \u001b[38;5;66;03m# makes sure all valves are at position A\u001b[39;00m\n",
      "\u001b[1;31mValueError\u001b[0m: invalid literal for int() with base 10: 'j'"
     ]
    }
   ],
   "source": [
    "print(\"Make sure both valves are at A.\")\n",
    "# gets the load time from user input\n",
    "i = input(\"Desired Load Time? (seconds): \")\n",
    "r = int(i)\n",
    "start_time = 0\n",
    "\n",
    "\n",
    "# makes sure all valves are at position A\n",
    "start_time = start()\n",
    "\n",
    "# rinse for 30 seconds\n",
    "Rinse30(start_time)\n",
    "\n",
    "# load for t seconds (t is user defined time)\n",
    "Load(start_time,r)\n",
    "\n",
    "# rinse for 45 seconds\n",
    "Rinse45(start_time)\n",
    "\n",
    "# elute for 4 mintues\n",
    "Elute(start_time)\n"
   ]
  },
  {
   "cell_type": "code",
   "execution_count": 109,
   "id": "1da0d45c",
   "metadata": {},
   "outputs": [],
   "source": [
    "# we have to close the connection so it doesn't throw an error when we rerun the script\n",
    "ser.close()"
   ]
  },
  {
   "cell_type": "code",
   "execution_count": null,
   "id": "31e21669",
   "metadata": {},
   "outputs": [],
   "source": []
  }
 ],
 "metadata": {
  "kernelspec": {
   "display_name": "Python 3 (ipykernel)",
   "language": "python",
   "name": "python3"
  },
  "language_info": {
   "codemirror_mode": {
    "name": "ipython",
    "version": 3
   },
   "file_extension": ".py",
   "mimetype": "text/x-python",
   "name": "python",
   "nbconvert_exporter": "python",
   "pygments_lexer": "ipython3",
   "version": "3.9.12"
  }
 },
 "nbformat": 4,
 "nbformat_minor": 5
}
