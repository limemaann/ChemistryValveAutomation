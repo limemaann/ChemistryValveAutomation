{
 "cells": [
  {
   "cell_type": "code",
   "execution_count": 17,
   "id": "0bc707cf",
   "metadata": {},
   "outputs": [],
   "source": [
    "# this imports required packages\n",
    "import serial\n",
    "import serial.tools.list_ports\n",
    "\n",
    "# defines a function that gets devices plugged into serial ports\n",
    "# if one's name is 'port authority', we set that port \n",
    "def port_authority():\n",
    "    ports = list(serial.tools.list_ports.comports())\n",
    "    # this list is 2D\n",
    "    for p in ports:\n",
    "        # basically, if it says 'prolific' in the right side\n",
    "        # give us the name of the port (on the left side)\n",
    "       if \"Prolific\" in p[1]:\n",
    "          return p[0]"
   ]
  },
  {
   "cell_type": "code",
   "execution_count": 18,
   "id": "27fe3943",
   "metadata": {},
   "outputs": [],
   "source": [
    "# runs our function and defines a variable as the port named 'prolific'\n",
    "port=port_authority()\n",
    "# baud rate is 9600, timeout is 1 second\n",
    "ser = serial.Serial(port,9600,timeout=1)"
   ]
  },
  {
   "cell_type": "code",
   "execution_count": 19,
   "id": "752feb91",
   "metadata": {},
   "outputs": [
    {
     "name": "stdout",
     "output_type": "stream",
     "text": [
      "Command: *GOB\n",
      "\n",
      "Command: *GOA\n",
      "\n",
      "Command: break\n"
     ]
    }
   ],
   "source": [
    "while True:\n",
    "    t = input(\"Command: \")+'\\n'\n",
    "    # escapes the loop if the word \"break\" is found anywhere\n",
    "    if \"break\" in t:\n",
    "        break\n",
    "    # writes encoded string\n",
    "    ser.write(t.encode('utf-8'))\n",
    "        # reads output, then prints and decodes it. Replaces carrage return character with new line character\n",
    "    out = ser.readline()\n",
    "    print(out.decode('utf-8').replace('\\r','\\n'))"
   ]
  },
  {
   "cell_type": "code",
   "execution_count": 21,
   "id": "8f005041",
   "metadata": {},
   "outputs": [],
   "source": [
    "ser.close()"
   ]
  },
  {
   "cell_type": "code",
   "execution_count": null,
   "id": "67581c7b",
   "metadata": {},
   "outputs": [],
   "source": []
  }
 ],
 "metadata": {
  "kernelspec": {
   "display_name": "Python 3 (ipykernel)",
   "language": "python",
   "name": "python3"
  },
  "language_info": {
   "codemirror_mode": {
    "name": "ipython",
    "version": 3
   },
   "file_extension": ".py",
   "mimetype": "text/x-python",
   "name": "python",
   "nbconvert_exporter": "python",
   "pygments_lexer": "ipython3",
   "version": "3.9.12"
  }
 },
 "nbformat": 4,
 "nbformat_minor": 5
}
